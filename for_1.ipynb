{
  "nbformat": 4,
  "nbformat_minor": 0,
  "metadata": {
    "colab": {
      "provenance": [],
      "authorship_tag": "ABX9TyP7/jfCabli4xfcXWtMGzMz",
      "include_colab_link": true
    },
    "kernelspec": {
      "name": "python3",
      "display_name": "Python 3"
    },
    "language_info": {
      "name": "python"
    }
  },
  "cells": [
    {
      "cell_type": "markdown",
      "metadata": {
        "id": "view-in-github",
        "colab_type": "text"
      },
      "source": [
        "<a href=\"https://colab.research.google.com/github/juandiaz1301/Taller_instrucciones_repetitivas_for/blob/main/for_1.ipynb\" target=\"_parent\"><img src=\"https://colab.research.google.com/assets/colab-badge.svg\" alt=\"Open In Colab\"/></a>"
      ]
    },
    {
      "cell_type": "code",
      "execution_count": null,
      "metadata": {
        "id": "MlRvlLQQSDvv"
      },
      "outputs": [],
      "source": [
        "print(\"Bienvenidos a Google Colaboratory\")\n",
        "\n",
        "# Programa No. 1 Instruccion for\n",
        "# Mostrar la suma de los 10 primeros numeros naturales\n",
        "\n",
        "# input\n",
        "\n",
        "# procesing\n",
        "suma = 0\n",
        "serie = list(range(1,11))\n",
        "for i in range(1,11):\n",
        "  suma = suma + 1\n",
        "\n",
        "#output\n",
        "print(\"La suma es: \" + str(suma))\n",
        "print(serie)\n",
        "\n"
      ]
    },
    {
      "cell_type": "code",
      "source": [
        "# Ejercicio No. 2, Mostrar los numeros del 1 al 10, sin usar instrucciones repectitivas\n",
        "\n",
        "print(1)\n",
        "print(2)\n",
        "print(3)\n",
        "print(4)\n",
        "print(5)\n",
        "print(6)\n",
        "print(7)\n",
        "print(8)\n",
        "print(9)\n",
        "print(10)\n"
      ],
      "metadata": {
        "id": "lDbyZn_oXlI4"
      },
      "execution_count": null,
      "outputs": []
    },
    {
      "cell_type": "code",
      "source": [
        "# Ejercicio No. 3, Mostrar los numeros del 1 al 10, Usando la instruccion while\n",
        "\n",
        "\n",
        "i = 1\n",
        "while (1 <= 10):\n",
        "  print(1)\n",
        "  i = i + 1"
      ],
      "metadata": {
        "id": "cMTdrk-cQfDP"
      },
      "execution_count": null,
      "outputs": []
    },
    {
      "cell_type": "code",
      "source": [
        "# Ejercicio No. 4, Mostrar los numeros de 1 al 10, usando la instruccion for\n",
        "\n",
        "for i in range(1,11):\n",
        "  print(i)"
      ],
      "metadata": {
        "id": "EGziqru0RNUw"
      },
      "execution_count": null,
      "outputs": []
    },
    {
      "cell_type": "code",
      "source": [
        "# Ejercicio No 5, mostrar los numeros del 1 al 10, usando la instruccion for y una lista\n",
        "\n",
        "mi_lista = [1,2,3,4,5,6,7,8,9,10]\n",
        "for i in mi_lista:\n",
        "  print(i)"
      ],
      "metadata": {
        "id": "kvmDNDSiRymw"
      },
      "execution_count": null,
      "outputs": []
    },
    {
      "cell_type": "code",
      "source": [
        "# Ejercicio No. 6, mostrar una frase 10 veces, usando la instruccion for y una lista\n",
        "\n",
        "mi_lista = [1,2,3,4,5,6,7,8,9,10]\n",
        "for i in mi_lista:\n",
        "  print(f\"{i} Guanenta 200 años!\")\n"
      ],
      "metadata": {
        "id": "3k53Cq6xUNZ6"
      },
      "execution_count": null,
      "outputs": []
    },
    {
      "cell_type": "code",
      "source": [
        "# Ejercicio No. 7, mostrar los silaba inicial de los dias de la semana, usando for y una lista\n",
        "\n",
        "diaas semana = [\"lu\", \"ma\", \"mi\", \"ju\", \"vi\", \"sa\", \"do\",]\n",
        "for i in dias semana:\n",
        "  print(i)"
      ],
      "metadata": {
        "id": "FYvDV5JAVU4H"
      },
      "execution_count": null,
      "outputs": []
    },
    {
      "cell_type": "code",
      "source": [
        "# Ejercicio No. 8, mostrar una lista de distintos tipos de datos, usando for\n",
        "\n",
        "mi listica = [1, 3,14 9, True, \"Juan\", 8, \"Guanenta\"]\n",
        "for in mi_listica:\n",
        "  print(1)"
      ],
      "metadata": {
        "id": "DScfthZSWKic"
      },
      "execution_count": null,
      "outputs": []
    },
    {
      "cell_type": "code",
      "source": [
        "# Ejercicio No. 9, ingresar su nombre y mostrarlo letra a letra, usando for\n",
        "\n",
        "nombre = input(\"Digite su nombre : \")\n",
        "\n",
        "for i in nombre:\n",
        "  print(1)"
      ],
      "metadata": {
        "id": "WbQ-mC9aYH8d"
      },
      "execution_count": null,
      "outputs": []
    },
    {
      "cell_type": "code",
      "source": [
        "# Ejercicio No. 10: ingresar su nombre y mostrarlo letra a letra, usando for, cambiando por un aster:\n",
        "\n",
        "nombre = input(\"Digite su nombre: \")\n",
        "\n",
        "for i in nombre:\n",
        "  if i == \"c\" :\n",
        "    print(\"*\")\n",
        "    else:\n",
        "      print(1)"
      ],
      "metadata": {
        "id": "i3uwnK8RY88v"
      },
      "execution_count": null,
      "outputs": []
    },
    {
      "cell_type": "code",
      "source": [
        "# Ejercicio No. 11: ingresar su nombre y mostrarlo letra a letra en mayuscula usando for\n",
        "\n",
        "nombre = input(\"Digite su nombre: \")\n",
        "\n",
        "for 1 in nombre:\n",
        "  print(i,upper)"
      ],
      "metadata": {
        "id": "dROAwfP7bLuM"
      },
      "execution_count": null,
      "outputs": []
    },
    {
      "cell_type": "code",
      "source": [
        "# Ejercicio No. 12, mostrar en la pantalla solo los que no terminan en uno (1)\n",
        "\n",
        "numeros = [20, 21, 30, 41, 50, 51, 20]\n",
        "\n",
        "for numero in numeros:\n",
        "  if numero % 10 !=1:\n",
        "    print(numero)"
      ],
      "metadata": {
        "id": "D1B5jvj6G-ub"
      },
      "execution_count": null,
      "outputs": []
    },
    {
      "cell_type": "code",
      "source": [
        "# Ejercicio No. 13, mostrar mil veces la palabra \"programacion\"\n",
        "\n",
        "for i in range(1000):\n",
        "  print(\"programacion\")"
      ],
      "metadata": {
        "id": "ehOSjyugKGjx"
      },
      "execution_count": null,
      "outputs": []
    },
    {
      "cell_type": "code",
      "source": [
        "# Ejercicio No. 14, mostrar el nombre completo de dichs meses\n",
        "\n",
        "meses = {\n",
        "    \"E\": \"Enero\",\n",
        "    \"F\": \"Febrero\",\n",
        "    \"M\": \"Marzo\",\n",
        "    \"A\": \"Abri\",\n",
        "}\n",
        "\n",
        "iniciales_meses = [\"E\", \"F\", \"M\", \"A\"]\n",
        "\n",
        "for inicial in iniciales_meses:\n",
        "  print(meses[inicial])"
      ],
      "metadata": {
        "id": "6_4BmC1mMVR5"
      },
      "execution_count": null,
      "outputs": []
    },
    {
      "cell_type": "code",
      "source": [
        "# Ejercicio No. 15, leer un texto y determinar cuantas veces dicho texto tiene cada una de las vocales en minuscula y mayuscula\n",
        "\n"
      ],
      "metadata": {
        "id": "A22uLm-5Ojdq"
      },
      "execution_count": 17,
      "outputs": []
    },
    {
      "cell_type": "code",
      "source": [
        "# Ejercicio No. 16,\n",
        "En un diagrama de flujo, la instruccion repetitiva for se representa generalmente con un rombo o diamante que contiene la palabraa \"for\"\n",
        "seguida de la condicion de repeticion. Por ejemplo, \"for ¡ to 10\"indicaria que la repeticion se realiza mientras la variable ¡ este en el rango de 1 a 10.\n",
        "dentro del rombo, se detallaria el bloque de codigo que se repetira en cada iteracion\n"
      ],
      "metadata": {
        "id": "9y4pLG_lSkQ2"
      },
      "execution_count": null,
      "outputs": []
    },
    {
      "cell_type": "code",
      "source": [
        "# Ejercicio No. 17, leer 20 numeros enteros y averiguar cuantos son pares y cuantos impares\n",
        "\n",
        "numeros_pares = 0\n",
        "numeros_impares= 0\n",
        "\n",
        "for i in range(20):\n",
        "  num = int(input(\"Ingrese un numero entero: \"))\n",
        "  if num % 2 == 0:\n",
        "    numeros_pares += 1\n",
        "  else:\n",
        "      numeros_impares += 1\n",
        "\n",
        "print(f\"Numeros pares: {numeros_pares}\")\n",
        "print(f\"Numeros impares: {numeros_impares}\")\n",
        "\n"
      ],
      "metadata": {
        "id": "_DgJPjAiT2Mk"
      },
      "execution_count": null,
      "outputs": []
    },
    {
      "cell_type": "code",
      "source": [
        "# Ejercicio No. 18,\n",
        "\n",
        "count_seven = 0\n",
        "count_nine = 0\n",
        "for num in range(1000,5001):\n",
        "  if num % 7 == 0:\n",
        "    count_seven += 1\n",
        "    if num % 9 == 0:\n",
        "      count_nine += 1\n",
        "print(f\"Numero  de multiplos de 7 entre 1000y 5000:{count_seven}\")\n",
        "print(f\"Numero de multiplo de 9 entre 1000 y 5000:{count_nine}\")"
      ],
      "metadata": {
        "id": "JOC2TnFzZvxs"
      },
      "execution_count": null,
      "outputs": []
    },
    {
      "cell_type": "code",
      "source": [
        "# Ejercicio No. 19,\n",
        "import random\n",
        "\n",
        "# Definir la catidad de datos a lanzar\n",
        "n_datos = 3\n",
        "# Defnir la cantidad de lanzamientos\n",
        "n_lanzamientos = 100\n",
        "\n",
        "resultados = {¡: 0 for i in range(1,7)}\n",
        "\n",
        "for_ in range(n_lanzamiento):\n",
        "  suma_caras = 0\n",
        "  for:in range(n_datos):\n",
        "    cara = random.randit(1,6)\n",
        "    resultados[cara] + = 1\n",
        "\n",
        "# Imprimir (\"histograma por cada cara print8 \"Histograma de resutados:\")\n",
        "for cara, cantidad in resultados.items():\n",
        "  print(f\"Cara{cara}:{\"*\"cantidad}\")"
      ],
      "metadata": {
        "id": "VpISldcchOz1"
      },
      "execution_count": null,
      "outputs": []
    }
  ]
}